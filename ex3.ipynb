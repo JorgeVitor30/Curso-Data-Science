import pandas as pd



dados = pd.read_csv("tempo.csv", ';')
dados.shape

dados

dados.describe()

dados.head() #  5 PRIMEIROS
dados.tail()# 5 ULTIMOS


# DEFINE OQ EU QUERO DE ACORDO COM AS COLUNAS
dados.loc[[1,2,3,4,5]]

# FILTRO
dados.loc[dados["Temperatura"] > 80]

dados[["Umidade","Temperatura"]] 

# ATRIBUINDO A VARIÁVEL

credito2 = dados.loc[dados['Vento'] == 'FALSO' ]
credito2


# DEFINIÇÃO DE COLUNAS

credito3 = dados[['Umidade',"Temperatura"]].loc[dados['Jogar'] == 'sim']
credito3


import numpy as np
array1 = np.array([1,45,65,87,34])
s2 = pd.Series(array1)
s2

# RENOMEAR NOMES DAS COLUNAS

dados.rename(columns={"Aparencia":"teste"}, inplace=True)
#implace = TRUE define como mudança absoluta nos dados

dados.rename(columns={"teste":"Aparencia"}, inplace=True)
dados

## DELETAR UMA COLUNA
dados.drop("Aparencia", axis=1)
# SE PÔR "IMPLACE = TRUE" FICA MUDANÇA PERMANENTE


# VERIFICAR SE HÁ DADOS NULOS

dados.isnull()
dados.isnull().sum()  # QUANTIDADE DE NULOS EM COLUNAS


# REMOVER OS DADOS NULOS
a = dados.dropna()  
a.isnull().sum()  #dados sem valores nulos

#PRENCHER FADOS FALTANTES

dados['Umidade'].fillna(0,inplace = True)
dados

# LINHA E COLUNAS DEFINIDAS

dados.iloc[[0,1,2,3,7],1:3]
