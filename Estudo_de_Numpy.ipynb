{
  "nbformat": 4,
  "nbformat_minor": 0,
  "metadata": {
    "colab": {
      "provenance": [],
      "authorship_tag": "ABX9TyNoXz/OfwGu5bziaIsSNvqb",
      "include_colab_link": true
    },
    "kernelspec": {
      "name": "python3",
      "display_name": "Python 3"
    },
    "language_info": {
      "name": "python"
    }
  },
  "cells": [
    {
      "cell_type": "markdown",
      "metadata": {
        "id": "view-in-github",
        "colab_type": "text"
      },
      "source": [
        "<a href=\"https://colab.research.google.com/github/JorgeVitor30/Curso-Data-Science/blob/main/Estudo_de_Numpy.ipynb\" target=\"_parent\"><img src=\"https://colab.research.google.com/assets/colab-badge.svg\" alt=\"Open In Colab\"/></a>"
      ]
    },
    {
      "cell_type": "markdown",
      "source": [
        "# ESTUDO DE NUMPY"
      ],
      "metadata": {
        "id": "_G5k7Rb536e8"
      }
    },
    {
      "cell_type": "code",
      "source": [
        "import numpy as np"
      ],
      "metadata": {
        "id": "rwRXjpEc4BAc"
      },
      "execution_count": 41,
      "outputs": []
    },
    {
      "cell_type": "code",
      "source": [
        "w1, w2, w3 = 0.3, 0.2, 0.5"
      ],
      "metadata": {
        "id": "IijPTTsr4Ck9"
      },
      "execution_count": 42,
      "outputs": []
    },
    {
      "cell_type": "code",
      "source": [
        "kanto = np.array([73, 67, 43])"
      ],
      "metadata": {
        "id": "hIuAZiQw4JYN"
      },
      "execution_count": 43,
      "outputs": []
    },
    {
      "cell_type": "code",
      "source": [
        "kanto"
      ],
      "metadata": {
        "colab": {
          "base_uri": "https://localhost:8080/"
        },
        "id": "qz_T1LiR4VVl",
        "outputId": "4acc4564-809e-4434-aa8d-0bc680cc2361"
      },
      "execution_count": 44,
      "outputs": [
        {
          "output_type": "execute_result",
          "data": {
            "text/plain": [
              "array([73, 67, 43])"
            ]
          },
          "metadata": {},
          "execution_count": 44
        }
      ]
    },
    {
      "cell_type": "code",
      "source": [
        "weights = np.array([w1,w2,w3])"
      ],
      "metadata": {
        "id": "EsqZ3ceZ4WWF"
      },
      "execution_count": 45,
      "outputs": []
    },
    {
      "cell_type": "code",
      "source": [
        "weights"
      ],
      "metadata": {
        "colab": {
          "base_uri": "https://localhost:8080/"
        },
        "id": "srd3fYmK4xzs",
        "outputId": "127cbb05-e13b-4df4-b9da-e66f0ece7893"
      },
      "execution_count": 46,
      "outputs": [
        {
          "output_type": "execute_result",
          "data": {
            "text/plain": [
              "array([0.3, 0.2, 0.5])"
            ]
          },
          "metadata": {},
          "execution_count": 46
        }
      ]
    },
    {
      "cell_type": "code",
      "source": [
        "weights[0]"
      ],
      "metadata": {
        "colab": {
          "base_uri": "https://localhost:8080/"
        },
        "id": "kcA_SPvB4ygM",
        "outputId": "5cc7160a-0eac-400c-f7ee-056613d7e5ae"
      },
      "execution_count": 47,
      "outputs": [
        {
          "output_type": "execute_result",
          "data": {
            "text/plain": [
              "0.3"
            ]
          },
          "metadata": {},
          "execution_count": 47
        }
      ]
    },
    {
      "cell_type": "markdown",
      "source": [
        "# Operations on Numpy arrays"
      ],
      "metadata": {
        "id": "f87Z1YTf5XV9"
      }
    },
    {
      "cell_type": "code",
      "source": [
        "help(np.dot)"
      ],
      "metadata": {
        "colab": {
          "base_uri": "https://localhost:8080/"
        },
        "id": "pbPvuo6V5el8",
        "outputId": "a7033b09-4c92-4c90-daec-2da04a041aac"
      },
      "execution_count": 48,
      "outputs": [
        {
          "output_type": "stream",
          "name": "stdout",
          "text": [
            "Help on function dot in module numpy:\n",
            "\n",
            "dot(...)\n",
            "    dot(a, b, out=None)\n",
            "    \n",
            "    Dot product of two arrays. Specifically,\n",
            "    \n",
            "    - If both `a` and `b` are 1-D arrays, it is inner product of vectors\n",
            "      (without complex conjugation).\n",
            "    \n",
            "    - If both `a` and `b` are 2-D arrays, it is matrix multiplication,\n",
            "      but using :func:`matmul` or ``a @ b`` is preferred.\n",
            "    \n",
            "    - If either `a` or `b` is 0-D (scalar), it is equivalent to :func:`multiply`\n",
            "      and using ``numpy.multiply(a, b)`` or ``a * b`` is preferred.\n",
            "    \n",
            "    - If `a` is an N-D array and `b` is a 1-D array, it is a sum product over\n",
            "      the last axis of `a` and `b`.\n",
            "    \n",
            "    - If `a` is an N-D array and `b` is an M-D array (where ``M>=2``), it is a\n",
            "      sum product over the last axis of `a` and the second-to-last axis of `b`::\n",
            "    \n",
            "        dot(a, b)[i,j,k,m] = sum(a[i,j,:] * b[k,:,m])\n",
            "    \n",
            "    Parameters\n",
            "    ----------\n",
            "    a : array_like\n",
            "        First argument.\n",
            "    b : array_like\n",
            "        Second argument.\n",
            "    out : ndarray, optional\n",
            "        Output argument. This must have the exact kind that would be returned\n",
            "        if it was not used. In particular, it must have the right type, must be\n",
            "        C-contiguous, and its dtype must be the dtype that would be returned\n",
            "        for `dot(a,b)`. This is a performance feature. Therefore, if these\n",
            "        conditions are not met, an exception is raised, instead of attempting\n",
            "        to be flexible.\n",
            "    \n",
            "    Returns\n",
            "    -------\n",
            "    output : ndarray\n",
            "        Returns the dot product of `a` and `b`.  If `a` and `b` are both\n",
            "        scalars or both 1-D arrays then a scalar is returned; otherwise\n",
            "        an array is returned.\n",
            "        If `out` is given, then it is returned.\n",
            "    \n",
            "    Raises\n",
            "    ------\n",
            "    ValueError\n",
            "        If the last dimension of `a` is not the same size as\n",
            "        the second-to-last dimension of `b`.\n",
            "    \n",
            "    See Also\n",
            "    --------\n",
            "    vdot : Complex-conjugating dot product.\n",
            "    tensordot : Sum products over arbitrary axes.\n",
            "    einsum : Einstein summation convention.\n",
            "    matmul : '@' operator as method with out parameter.\n",
            "    linalg.multi_dot : Chained dot product.\n",
            "    \n",
            "    Examples\n",
            "    --------\n",
            "    >>> np.dot(3, 4)\n",
            "    12\n",
            "    \n",
            "    Neither argument is complex-conjugated:\n",
            "    \n",
            "    >>> np.dot([2j, 3j], [2j, 3j])\n",
            "    (-13+0j)\n",
            "    \n",
            "    For 2-D arrays it is the matrix product:\n",
            "    \n",
            "    >>> a = [[1, 0], [0, 1]]\n",
            "    >>> b = [[4, 1], [2, 2]]\n",
            "    >>> np.dot(a, b)\n",
            "    array([[4, 1],\n",
            "           [2, 2]])\n",
            "    \n",
            "    >>> a = np.arange(3*4*5*6).reshape((3,4,5,6))\n",
            "    >>> b = np.arange(3*4*5*6)[::-1].reshape((5,4,6,3))\n",
            "    >>> np.dot(a, b)[2,3,2,1,2,2]\n",
            "    499128\n",
            "    >>> sum(a[2,3,2,:] * b[1,2,:,2])\n",
            "    499128\n",
            "\n"
          ]
        }
      ]
    },
    {
      "cell_type": "code",
      "source": [
        "np.dot(kanto,weights)"
      ],
      "metadata": {
        "colab": {
          "base_uri": "https://localhost:8080/"
        },
        "id": "vUr7aihq5cUU",
        "outputId": "48e80eac-9826-49e8-bb45-c91348ae3c20"
      },
      "execution_count": 49,
      "outputs": [
        {
          "output_type": "execute_result",
          "data": {
            "text/plain": [
              "56.8"
            ]
          },
          "metadata": {},
          "execution_count": 49
        }
      ]
    },
    {
      "cell_type": "code",
      "source": [
        "a = [1,2]\n",
        "b = [2,3]\n",
        "np.dot(a,b)"
      ],
      "metadata": {
        "colab": {
          "base_uri": "https://localhost:8080/"
        },
        "id": "Lis1L_9c51PV",
        "outputId": "cfc3d869-33b3-4675-a715-90b91067d1c6"
      },
      "execution_count": 50,
      "outputs": [
        {
          "output_type": "execute_result",
          "data": {
            "text/plain": [
              "8"
            ]
          },
          "metadata": {},
          "execution_count": 50
        }
      ]
    },
    {
      "cell_type": "code",
      "source": [
        "(kanto * weights).sum()     # MSM FUNCIONAMENTO DO DOT (MULTIPLICAR AS LISTAS E SOMAR OS RESULTADOS)"
      ],
      "metadata": {
        "colab": {
          "base_uri": "https://localhost:8080/"
        },
        "id": "bgUZ6neN571U",
        "outputId": "08504133-ce61-49aa-bb62-27ab6d4ed061"
      },
      "execution_count": 51,
      "outputs": [
        {
          "output_type": "execute_result",
          "data": {
            "text/plain": [
              "56.8"
            ]
          },
          "metadata": {},
          "execution_count": 51
        }
      ]
    },
    {
      "cell_type": "markdown",
      "source": [
        "# Multi-dimensional Numpy arrays"
      ],
      "metadata": {
        "id": "VYObwYdh7dd9"
      }
    },
    {
      "cell_type": "code",
      "source": [
        "climate_data = np.array([[10,20,30],\n",
        "                [40,50,60],\n",
        "                [70,80,90],\n",
        "                [100,110,120]])"
      ],
      "metadata": {
        "id": "1oaQQu6u7hXt"
      },
      "execution_count": 52,
      "outputs": []
    },
    {
      "cell_type": "code",
      "source": [
        "climate_data      #2D"
      ],
      "metadata": {
        "colab": {
          "base_uri": "https://localhost:8080/"
        },
        "id": "_RzmscTohayH",
        "outputId": "afc46f16-5ce6-49a0-a911-32cefe4d9cd5"
      },
      "execution_count": 53,
      "outputs": [
        {
          "output_type": "execute_result",
          "data": {
            "text/plain": [
              "array([[ 10,  20,  30],\n",
              "       [ 40,  50,  60],\n",
              "       [ 70,  80,  90],\n",
              "       [100, 110, 120]])"
            ]
          },
          "metadata": {},
          "execution_count": 53
        }
      ]
    },
    {
      "cell_type": "code",
      "source": [
        "climate_data.shape"
      ],
      "metadata": {
        "colab": {
          "base_uri": "https://localhost:8080/"
        },
        "id": "4jdETl-FhbWO",
        "outputId": "a7305a8b-6e8e-48f8-de8e-0bac460596c1"
      },
      "execution_count": 54,
      "outputs": [
        {
          "output_type": "execute_result",
          "data": {
            "text/plain": [
              "(4, 3)"
            ]
          },
          "metadata": {},
          "execution_count": 54
        }
      ]
    },
    {
      "cell_type": "code",
      "source": [
        "climate_data_3d = np.array([ \n",
        "        [[10,20,30],\n",
        "         [40,50,60]],\n",
        "\n",
        "         [[70,80,90],\n",
        "         [100,110,120]]])"
      ],
      "metadata": {
        "id": "eMti02OJhqyl"
      },
      "execution_count": 55,
      "outputs": []
    },
    {
      "cell_type": "code",
      "source": [
        "climate_data_3d.shape"
      ],
      "metadata": {
        "colab": {
          "base_uri": "https://localhost:8080/"
        },
        "id": "mQ-EDyp1ircX",
        "outputId": "46b49be3-742c-453c-c048-e49f27d72b98"
      },
      "execution_count": 56,
      "outputs": [
        {
          "output_type": "execute_result",
          "data": {
            "text/plain": [
              "(2, 2, 3)"
            ]
          },
          "metadata": {},
          "execution_count": 56
        }
      ]
    },
    {
      "cell_type": "markdown",
      "source": [
        "#Working with CSV"
      ],
      "metadata": {
        "id": "8JI97F1REwDh"
      }
    },
    {
      "cell_type": "code",
      "source": [
        "import urllib.request\n",
        "\n",
        "urllib.request.urlretrieve('https://gist.github.com/BirajCoder/a4ffcb76fd6fb221d76ac2ee2b8584e9/raw/4054f90adfd361b7aa4255e99c2e874664094cea/climate.csv', \n",
        "    'climate.txt')"
      ],
      "metadata": {
        "colab": {
          "base_uri": "https://localhost:8080/"
        },
        "id": "o9RZI-MTExYY",
        "outputId": "d211809d-4d8f-472e-e1e8-f8ac6f029001"
      },
      "execution_count": 57,
      "outputs": [
        {
          "output_type": "execute_result",
          "data": {
            "text/plain": [
              "('climate.txt', <http.client.HTTPMessage at 0x7f599c3668f0>)"
            ]
          },
          "metadata": {},
          "execution_count": 57
        }
      ]
    },
    {
      "cell_type": "code",
      "source": [
        "climate_data = np.genfromtxt('climate.txt', delimiter= ',' , skip_header=1)"
      ],
      "metadata": {
        "id": "_Q7eVzCBFj03"
      },
      "execution_count": 58,
      "outputs": []
    },
    {
      "cell_type": "code",
      "source": [
        "climate_data"
      ],
      "metadata": {
        "colab": {
          "base_uri": "https://localhost:8080/"
        },
        "id": "a29s64tHFrrv",
        "outputId": "3479dff9-d382-4d0a-e810-c4e8fa7fd580"
      },
      "execution_count": 59,
      "outputs": [
        {
          "output_type": "execute_result",
          "data": {
            "text/plain": [
              "array([[25., 76., 99.],\n",
              "       [39., 65., 70.],\n",
              "       [59., 45., 77.],\n",
              "       ...,\n",
              "       [99., 62., 58.],\n",
              "       [70., 71., 91.],\n",
              "       [92., 39., 76.]])"
            ]
          },
          "metadata": {},
          "execution_count": 59
        }
      ]
    },
    {
      "cell_type": "code",
      "source": [
        "climate_data.shape"
      ],
      "metadata": {
        "colab": {
          "base_uri": "https://localhost:8080/"
        },
        "id": "V-XFlF9DFyde",
        "outputId": "c029958d-dc14-427d-807d-ef9f6470c889"
      },
      "execution_count": 60,
      "outputs": [
        {
          "output_type": "execute_result",
          "data": {
            "text/plain": [
              "(10000, 3)"
            ]
          },
          "metadata": {},
          "execution_count": 60
        }
      ]
    },
    {
      "cell_type": "code",
      "source": [
        "weights = np.array([0.3, 0.2, 0.5])\n",
        "teste = np.array([0.4, 0.3, 0.6])"
      ],
      "metadata": {
        "id": "c73vvL7DF26v"
      },
      "execution_count": 61,
      "outputs": []
    },
    {
      "cell_type": "code",
      "source": [
        "concatenado = np.concatenate((weights, teste))"
      ],
      "metadata": {
        "id": "fguxmHwDF-L_"
      },
      "execution_count": 62,
      "outputs": []
    },
    {
      "cell_type": "code",
      "source": [
        "concatenado"
      ],
      "metadata": {
        "colab": {
          "base_uri": "https://localhost:8080/"
        },
        "id": "0FSxlzHkGEHH",
        "outputId": "30b699e8-ebb3-4ee1-daba-55b638c78b6c"
      },
      "execution_count": 63,
      "outputs": [
        {
          "output_type": "execute_result",
          "data": {
            "text/plain": [
              "array([0.3, 0.2, 0.5, 0.4, 0.3, 0.6])"
            ]
          },
          "metadata": {},
          "execution_count": 63
        }
      ]
    },
    {
      "cell_type": "code",
      "source": [
        "concatenado.shape"
      ],
      "metadata": {
        "colab": {
          "base_uri": "https://localhost:8080/"
        },
        "id": "um0SDetrGw_w",
        "outputId": "eb72c5a1-e2f8-471a-9cf9-5964c2ad19c0"
      },
      "execution_count": 64,
      "outputs": [
        {
          "output_type": "execute_result",
          "data": {
            "text/plain": [
              "(6,)"
            ]
          },
          "metadata": {},
          "execution_count": 64
        }
      ]
    },
    {
      "cell_type": "code",
      "source": [
        "teste.reshape(3,1)    # MUDA A QTD DE COLUNAS E LINHAS Q EU QUERO (DE ACORDO COM A QTD ORIGINAL DA LISTA) --> TORNOU-SE EM UMA LISTA DE 3 LINHAS E 1 COLUNA"
      ],
      "metadata": {
        "id": "clZ9F4isG_CQ",
        "colab": {
          "base_uri": "https://localhost:8080/"
        },
        "outputId": "196b1055-e0b7-4407-cf4a-dcf83a87a6ce"
      },
      "execution_count": 65,
      "outputs": [
        {
          "output_type": "execute_result",
          "data": {
            "text/plain": [
              "array([[0.4],\n",
              "       [0.3],\n",
              "       [0.6]])"
            ]
          },
          "metadata": {},
          "execution_count": 65
        }
      ]
    },
    {
      "cell_type": "code",
      "source": [
        "np.savetxt('climate_data', \n",
        "            climate_data,\n",
        "            fmt='%.2f',\n",
        "            header='temperature,rainfall,humidity,yeild_apples',\n",
        "            comments=' ')"
      ],
      "metadata": {
        "id": "BpuiNUJHJtpZ"
      },
      "execution_count": 66,
      "outputs": []
    },
    {
      "cell_type": "markdown",
      "source": [
        "# Arithmetic operations and broadcasting"
      ],
      "metadata": {
        "id": "cC1Z4XhCd6oS"
      }
    },
    {
      "cell_type": "code",
      "source": [
        "arr2 = np.array([[1, 2, 3, 4],\n",
        "                 [5, 6, 7, 8],\n",
        "                 [9, 1, 2, 3]])"
      ],
      "metadata": {
        "id": "PQLdrl4acVYo"
      },
      "execution_count": 67,
      "outputs": []
    },
    {
      "cell_type": "code",
      "source": [
        "arr3 = np.array([[11, 12, 13, 14], \n",
        "                 [15, 16, 17, 18], \n",
        "                 [19, 11, 12, 13]])"
      ],
      "metadata": {
        "id": "lcXJSvqpeLMI"
      },
      "execution_count": 68,
      "outputs": []
    },
    {
      "cell_type": "code",
      "source": [
        "arr2 + arr3"
      ],
      "metadata": {
        "colab": {
          "base_uri": "https://localhost:8080/"
        },
        "id": "I-YG2y7yePlw",
        "outputId": "a0a8fb21-e4cb-47d5-94e8-7236c0df5129"
      },
      "execution_count": 69,
      "outputs": [
        {
          "output_type": "execute_result",
          "data": {
            "text/plain": [
              "array([[12, 14, 16, 18],\n",
              "       [20, 22, 24, 26],\n",
              "       [28, 12, 14, 16]])"
            ]
          },
          "metadata": {},
          "execution_count": 69
        }
      ]
    },
    {
      "cell_type": "code",
      "source": [
        "arr3 - arr2"
      ],
      "metadata": {
        "colab": {
          "base_uri": "https://localhost:8080/"
        },
        "id": "rGUbaSnyeR2R",
        "outputId": "ec2f30e0-7ef7-4f9a-df99-f20e97e3383b"
      },
      "execution_count": 70,
      "outputs": [
        {
          "output_type": "execute_result",
          "data": {
            "text/plain": [
              "array([[10, 10, 10, 10],\n",
              "       [10, 10, 10, 10],\n",
              "       [10, 10, 10, 10]])"
            ]
          },
          "metadata": {},
          "execution_count": 70
        }
      ]
    },
    {
      "cell_type": "code",
      "source": [
        "arr2 + 3      # SOMAR 3 A TODOS OS ELEMENTOS DA LISTA NP"
      ],
      "metadata": {
        "colab": {
          "base_uri": "https://localhost:8080/"
        },
        "id": "QgkWJK44hFaR",
        "outputId": "e387a6ee-e8a4-4f49-fc2e-263bbd8a2c44"
      },
      "execution_count": 71,
      "outputs": [
        {
          "output_type": "execute_result",
          "data": {
            "text/plain": [
              "array([[ 4,  5,  6,  7],\n",
              "       [ 8,  9, 10, 11],\n",
              "       [12,  4,  5,  6]])"
            ]
          },
          "metadata": {},
          "execution_count": 71
        }
      ]
    },
    {
      "cell_type": "code",
      "source": [
        "arr3 / 3    # DIVIDIR POR 3 A TODOS OS ELEMENTOS DA LISTA NP"
      ],
      "metadata": {
        "colab": {
          "base_uri": "https://localhost:8080/"
        },
        "id": "OJ8EUz6AhJdJ",
        "outputId": "eac9340f-f5e3-4c25-86e2-9804078e3393"
      },
      "execution_count": 72,
      "outputs": [
        {
          "output_type": "execute_result",
          "data": {
            "text/plain": [
              "array([[3.66666667, 4.        , 4.33333333, 4.66666667],\n",
              "       [5.        , 5.33333333, 5.66666667, 6.        ],\n",
              "       [6.33333333, 3.66666667, 4.        , 4.33333333]])"
            ]
          },
          "metadata": {},
          "execution_count": 72
        }
      ]
    },
    {
      "cell_type": "code",
      "source": [
        "arr2.shape"
      ],
      "metadata": {
        "colab": {
          "base_uri": "https://localhost:8080/"
        },
        "id": "V9mif5sChQop",
        "outputId": "c29b5494-ee63-4106-c532-201a3fdfe83f"
      },
      "execution_count": 73,
      "outputs": [
        {
          "output_type": "execute_result",
          "data": {
            "text/plain": [
              "(3, 4)"
            ]
          },
          "metadata": {},
          "execution_count": 73
        }
      ]
    },
    {
      "cell_type": "code",
      "source": [
        "arr4 = np.array([4,5,6,7])"
      ],
      "metadata": {
        "id": "1TlI0RdFheN4"
      },
      "execution_count": 74,
      "outputs": []
    },
    {
      "cell_type": "code",
      "source": [
        "arr4.shape"
      ],
      "metadata": {
        "colab": {
          "base_uri": "https://localhost:8080/"
        },
        "id": "ByhYwg_-hprx",
        "outputId": "c1ef88d1-d466-4b82-ad1b-f3da716d4bbf"
      },
      "execution_count": 75,
      "outputs": [
        {
          "output_type": "execute_result",
          "data": {
            "text/plain": [
              "(4,)"
            ]
          },
          "metadata": {},
          "execution_count": 75
        }
      ]
    },
    {
      "cell_type": "code",
      "source": [
        "arr2 + arr4     # está somando [4,5,6,7] em todas as linhas       ex: [1,2,3,4] + [4,5,6,7]   //  [5, 6, 7, 8] + [4, 5, 6, 7]"
      ],
      "metadata": {
        "colab": {
          "base_uri": "https://localhost:8080/"
        },
        "id": "x4quQKjmhqdh",
        "outputId": "e59654da-88bd-448f-a479-b6f95f04219c"
      },
      "execution_count": 76,
      "outputs": [
        {
          "output_type": "execute_result",
          "data": {
            "text/plain": [
              "array([[ 5,  7,  9, 11],\n",
              "       [ 9, 11, 13, 15],\n",
              "       [13,  6,  8, 10]])"
            ]
          },
          "metadata": {},
          "execution_count": 76
        }
      ]
    },
    {
      "cell_type": "code",
      "source": [
        "arr5 = np.array([7, 8])"
      ],
      "metadata": {
        "id": "VU73qIEghsZK"
      },
      "execution_count": 77,
      "outputs": []
    },
    {
      "cell_type": "code",
      "source": [
        "arr5.shape"
      ],
      "metadata": {
        "colab": {
          "base_uri": "https://localhost:8080/"
        },
        "id": "ZWASV1triunK",
        "outputId": "3c63a6fa-6a1d-424a-bcf6-26f617a454f8"
      },
      "execution_count": 78,
      "outputs": [
        {
          "output_type": "execute_result",
          "data": {
            "text/plain": [
              "(2,)"
            ]
          },
          "metadata": {},
          "execution_count": 78
        }
      ]
    },
    {
      "cell_type": "code",
      "source": [
        "arr5_replicated = np.array([[7, 8],\n",
        "                           [7, 8],\n",
        "                           [7, 8]])"
      ],
      "metadata": {
        "id": "enMCPT2djMI6"
      },
      "execution_count": 79,
      "outputs": []
    },
    {
      "cell_type": "code",
      "source": [
        "arr5 = np.array([[1, 2, 3], [3, 4, 5]])\n",
        "arr6 = np.array([[2, 2, 3], [1, 2, 5]])"
      ],
      "metadata": {
        "id": "h-5vBd82iwMR"
      },
      "execution_count": 80,
      "outputs": []
    },
    {
      "cell_type": "code",
      "source": [
        "arr5 == arr6        # FAZ UMA COMPARAÇÃO DE ELEMENTO POR ELEMENTO"
      ],
      "metadata": {
        "colab": {
          "base_uri": "https://localhost:8080/"
        },
        "id": "k2AVFa-ImKPH",
        "outputId": "e20a7aa5-fc34-4e68-854c-e2be69b65fcd"
      },
      "execution_count": 81,
      "outputs": [
        {
          "output_type": "execute_result",
          "data": {
            "text/plain": [
              "array([[False,  True,  True],\n",
              "       [False, False,  True]])"
            ]
          },
          "metadata": {},
          "execution_count": 81
        }
      ]
    },
    {
      "cell_type": "code",
      "source": [
        "arr5 != arr6        # FAZ UMA COMPARAÇÃO DE ELEMENTO POR ELEMENTO"
      ],
      "metadata": {
        "colab": {
          "base_uri": "https://localhost:8080/"
        },
        "id": "Y-4WXgTFmOH2",
        "outputId": "6d8b1103-7071-475e-f509-2bec6eeaf3f0"
      },
      "execution_count": 82,
      "outputs": [
        {
          "output_type": "execute_result",
          "data": {
            "text/plain": [
              "array([[ True, False, False],\n",
              "       [ True,  True, False]])"
            ]
          },
          "metadata": {},
          "execution_count": 82
        }
      ]
    },
    {
      "cell_type": "code",
      "source": [
        "arr5 >= arr6       # FAZ UMA COMPARAÇÃO DE ELEMENTO POR ELEMENTO "
      ],
      "metadata": {
        "colab": {
          "base_uri": "https://localhost:8080/"
        },
        "id": "Fc67d62Hmbn_",
        "outputId": "30a973a8-8d2b-416b-cf9c-8f431257cf3b"
      },
      "execution_count": 83,
      "outputs": [
        {
          "output_type": "execute_result",
          "data": {
            "text/plain": [
              "array([[False,  True,  True],\n",
              "       [ True,  True,  True]])"
            ]
          },
          "metadata": {},
          "execution_count": 83
        }
      ]
    },
    {
      "cell_type": "code",
      "source": [
        "arr5 <= arr6      # FAZ UMA COMPARAÇÃO DE ELEMENTO POR ELEMENTO"
      ],
      "metadata": {
        "colab": {
          "base_uri": "https://localhost:8080/"
        },
        "id": "Y2X4yS9LmgQP",
        "outputId": "faaf0c84-1fb6-4e34-cd69-7259faa3c074"
      },
      "execution_count": 84,
      "outputs": [
        {
          "output_type": "execute_result",
          "data": {
            "text/plain": [
              "array([[ True,  True,  True],\n",
              "       [False, False,  True]])"
            ]
          },
          "metadata": {},
          "execution_count": 84
        }
      ]
    },
    {
      "cell_type": "code",
      "source": [
        "(arr5 == arr6).sum()      # SOMATÓRIA DE QNTS ELEMENTOS SÃO IGUAIS"
      ],
      "metadata": {
        "colab": {
          "base_uri": "https://localhost:8080/"
        },
        "id": "TPtWJsrAmis2",
        "outputId": "977f67f1-2529-4e81-f687-5dac49c10dab"
      },
      "execution_count": 85,
      "outputs": [
        {
          "output_type": "execute_result",
          "data": {
            "text/plain": [
              "3"
            ]
          },
          "metadata": {},
          "execution_count": 85
        }
      ]
    },
    {
      "cell_type": "code",
      "source": [
        "climate_data"
      ],
      "metadata": {
        "colab": {
          "base_uri": "https://localhost:8080/"
        },
        "id": "mH3d6XuBmuL2",
        "outputId": "46744fa0-dba5-40c2-b7d6-f21568797226"
      },
      "execution_count": 86,
      "outputs": [
        {
          "output_type": "execute_result",
          "data": {
            "text/plain": [
              "array([[25., 76., 99.],\n",
              "       [39., 65., 70.],\n",
              "       [59., 45., 77.],\n",
              "       ...,\n",
              "       [99., 62., 58.],\n",
              "       [70., 71., 91.],\n",
              "       [92., 39., 76.]])"
            ]
          },
          "metadata": {},
          "execution_count": 86
        }
      ]
    },
    {
      "cell_type": "code",
      "source": [
        "climate_data[1]"
      ],
      "metadata": {
        "colab": {
          "base_uri": "https://localhost:8080/"
        },
        "id": "AOAWUKjknEwv",
        "outputId": "ce709a8c-abe5-4c73-a8d7-6af2d1897c2d"
      },
      "execution_count": 87,
      "outputs": [
        {
          "output_type": "execute_result",
          "data": {
            "text/plain": [
              "array([39., 65., 70.])"
            ]
          },
          "metadata": {},
          "execution_count": 87
        }
      ]
    },
    {
      "cell_type": "code",
      "source": [
        "climate_data_3d = np.array([ \n",
        "        [[10,20,30],\n",
        "         [40,50,60]],\n",
        "\n",
        "         [[70,80,90],\n",
        "         [100,110,120]]])"
      ],
      "metadata": {
        "id": "GmdiqeOKnFz2"
      },
      "execution_count": 88,
      "outputs": []
    },
    {
      "cell_type": "code",
      "source": [
        "climate_data_3d[1,1,1]"
      ],
      "metadata": {
        "colab": {
          "base_uri": "https://localhost:8080/"
        },
        "id": "MDiNTRJ-nNnP",
        "outputId": "28a94319-216d-4139-fb3c-5ee3193c0256"
      },
      "execution_count": 89,
      "outputs": [
        {
          "output_type": "execute_result",
          "data": {
            "text/plain": [
              "110"
            ]
          },
          "metadata": {},
          "execution_count": 89
        }
      ]
    },
    {
      "cell_type": "code",
      "source": [
        "climate_data_3d[1][1][1]"
      ],
      "metadata": {
        "colab": {
          "base_uri": "https://localhost:8080/"
        },
        "id": "rjONBaD-nPTG",
        "outputId": "25f1f06c-805a-457f-c14f-49556784980f"
      },
      "execution_count": 90,
      "outputs": [
        {
          "output_type": "execute_result",
          "data": {
            "text/plain": [
              "110"
            ]
          },
          "metadata": {},
          "execution_count": 90
        }
      ]
    },
    {
      "cell_type": "code",
      "source": [
        "climate_data_3d[1:, :2, 1:]     # MANIPULAÇÕES ESPECÍFICAS"
      ],
      "metadata": {
        "colab": {
          "base_uri": "https://localhost:8080/"
        },
        "id": "fXm8141anXQH",
        "outputId": "40c2dfbf-611c-4057-de9b-5831bad48fa4"
      },
      "execution_count": 91,
      "outputs": [
        {
          "output_type": "execute_result",
          "data": {
            "text/plain": [
              "array([[[ 80,  90],\n",
              "        [110, 120]]])"
            ]
          },
          "metadata": {},
          "execution_count": 91
        }
      ]
    },
    {
      "cell_type": "code",
      "source": [
        "climate_data_3d[1:, :2, 1:].shape"
      ],
      "metadata": {
        "colab": {
          "base_uri": "https://localhost:8080/"
        },
        "id": "a6jbkDWSoDiH",
        "outputId": "d1479a9e-e0e4-46a7-fc13-64bad79e8d5e"
      },
      "execution_count": 92,
      "outputs": [
        {
          "output_type": "execute_result",
          "data": {
            "text/plain": [
              "(1, 2, 2)"
            ]
          },
          "metadata": {},
          "execution_count": 92
        }
      ]
    },
    {
      "cell_type": "markdown",
      "source": [
        "# CRIAR COM TUDO ZERO\n",
        "\n"
      ],
      "metadata": {
        "id": "YE4XnBYUqkq4"
      }
    },
    {
      "cell_type": "code",
      "source": [
        "np.zeros([3, 2])"
      ],
      "metadata": {
        "colab": {
          "base_uri": "https://localhost:8080/"
        },
        "id": "7gGmI9-CpWNe",
        "outputId": "3ae7d9a9-3290-4dab-8578-44e36f3dcd5f"
      },
      "execution_count": 93,
      "outputs": [
        {
          "output_type": "execute_result",
          "data": {
            "text/plain": [
              "array([[0., 0.],\n",
              "       [0., 0.],\n",
              "       [0., 0.]])"
            ]
          },
          "metadata": {},
          "execution_count": 93
        }
      ]
    },
    {
      "cell_type": "markdown",
      "source": [
        "# CRIAR COM TODOS 1"
      ],
      "metadata": {
        "id": "7BO2m4-3qsBY"
      }
    },
    {
      "cell_type": "code",
      "source": [
        "np.ones([2,2,1])"
      ],
      "metadata": {
        "colab": {
          "base_uri": "https://localhost:8080/"
        },
        "id": "54miNqhcqoNf",
        "outputId": "abf497d5-f07d-465a-f0ea-948eddbdd45c"
      },
      "execution_count": 94,
      "outputs": [
        {
          "output_type": "execute_result",
          "data": {
            "text/plain": [
              "array([[[1.],\n",
              "        [1.]],\n",
              "\n",
              "       [[1.],\n",
              "        [1.]]])"
            ]
          },
          "metadata": {},
          "execution_count": 94
        }
      ]
    },
    {
      "cell_type": "markdown",
      "source": [
        "# CRIAR RANDOM VETOR"
      ],
      "metadata": {
        "id": "9DdDotWGq5LX"
      }
    },
    {
      "cell_type": "code",
      "source": [
        "np.random.rand(5)"
      ],
      "metadata": {
        "colab": {
          "base_uri": "https://localhost:8080/"
        },
        "id": "S7Bmi75sqvIG",
        "outputId": "f9db879f-9d2e-4771-95f4-d3f9885300f3"
      },
      "execution_count": 95,
      "outputs": [
        {
          "output_type": "execute_result",
          "data": {
            "text/plain": [
              "array([0.2063755 , 0.29282551, 0.44753361, 0.6707638 , 0.7840969 ])"
            ]
          },
          "metadata": {},
          "execution_count": 95
        }
      ]
    },
    {
      "cell_type": "code",
      "source": [
        "np.random.randn(2,3)    # GAUSSIAN"
      ],
      "metadata": {
        "colab": {
          "base_uri": "https://localhost:8080/"
        },
        "id": "psKcnjvNrB-e",
        "outputId": "49ee1e6d-312e-457e-d53d-01a945b9dbef"
      },
      "execution_count": 96,
      "outputs": [
        {
          "output_type": "execute_result",
          "data": {
            "text/plain": [
              "array([[-0.43665626, -0.25858779, -0.8231653 ],\n",
              "       [-0.39586261, -1.64008815,  2.37064404]])"
            ]
          },
          "metadata": {},
          "execution_count": 96
        }
      ]
    },
    {
      "cell_type": "code",
      "source": [
        "np.full([2,3], 42)"
      ],
      "metadata": {
        "colab": {
          "base_uri": "https://localhost:8080/"
        },
        "id": "v987wTl5rSbH",
        "outputId": "ef62bb9c-7225-4d31-a8c0-d989575465ee"
      },
      "execution_count": 97,
      "outputs": [
        {
          "output_type": "execute_result",
          "data": {
            "text/plain": [
              "array([[42, 42, 42],\n",
              "       [42, 42, 42]])"
            ]
          },
          "metadata": {},
          "execution_count": 97
        }
      ]
    },
    {
      "cell_type": "code",
      "source": [
        "np.arange(10, 90, 3)"
      ],
      "metadata": {
        "colab": {
          "base_uri": "https://localhost:8080/"
        },
        "id": "rCJXGqhGriN4",
        "outputId": "30133f66-0873-4620-e6ed-5e24de482c62"
      },
      "execution_count": 98,
      "outputs": [
        {
          "output_type": "execute_result",
          "data": {
            "text/plain": [
              "array([10, 13, 16, 19, 22, 25, 28, 31, 34, 37, 40, 43, 46, 49, 52, 55, 58,\n",
              "       61, 64, 67, 70, 73, 76, 79, 82, 85, 88])"
            ]
          },
          "metadata": {},
          "execution_count": 98
        }
      ]
    },
    {
      "cell_type": "code",
      "source": [
        "np.arange(10, 90, 3).shape"
      ],
      "metadata": {
        "colab": {
          "base_uri": "https://localhost:8080/"
        },
        "id": "OiYRzEzOrlKG",
        "outputId": "ecb97835-dd35-4780-a02a-e7f4a1014e3e"
      },
      "execution_count": 99,
      "outputs": [
        {
          "output_type": "execute_result",
          "data": {
            "text/plain": [
              "(27,)"
            ]
          },
          "metadata": {},
          "execution_count": 99
        }
      ]
    },
    {
      "cell_type": "code",
      "source": [
        "np.arange(10, 90, 3).reshape(3, 3, 3)"
      ],
      "metadata": {
        "colab": {
          "base_uri": "https://localhost:8080/"
        },
        "id": "rAIU-t1rrphu",
        "outputId": "1d22b585-353a-414d-ded0-eed9d4a25546"
      },
      "execution_count": 100,
      "outputs": [
        {
          "output_type": "execute_result",
          "data": {
            "text/plain": [
              "array([[[10, 13, 16],\n",
              "        [19, 22, 25],\n",
              "        [28, 31, 34]],\n",
              "\n",
              "       [[37, 40, 43],\n",
              "        [46, 49, 52],\n",
              "        [55, 58, 61]],\n",
              "\n",
              "       [[64, 67, 70],\n",
              "        [73, 76, 79],\n",
              "        [82, 85, 88]]])"
            ]
          },
          "metadata": {},
          "execution_count": 100
        }
      ]
    },
    {
      "cell_type": "code",
      "source": [
        "np.linspace(3, 27, 4)     # SETA O ESPAÇAMENTO ENTRE O RANGE DE ACORDO COM O TANTO DE ELEMENTOS Q EU QUERO QUE TENHA NO RANGE (3, 27)"
      ],
      "metadata": {
        "colab": {
          "base_uri": "https://localhost:8080/"
        },
        "id": "VTaSOkd6rxGv",
        "outputId": "3cd343fb-0b39-4597-edd8-57d21fd83561"
      },
      "execution_count": 101,
      "outputs": [
        {
          "output_type": "execute_result",
          "data": {
            "text/plain": [
              "array([ 3., 11., 19., 27.])"
            ]
          },
          "metadata": {},
          "execution_count": 101
        }
      ]
    },
    {
      "cell_type": "code",
      "source": [
        "A = np.array([ [1,2,3],\n",
        "              [4,5,6],\n",
        "              [7,6,9]])"
      ],
      "metadata": {
        "id": "tYhv_xcNHX44"
      },
      "execution_count": 104,
      "outputs": []
    },
    {
      "cell_type": "code",
      "source": [
        "A[0] = np.array([[3,3,3]])"
      ],
      "metadata": {
        "id": "D9hJON8TIS8u"
      },
      "execution_count": 109,
      "outputs": []
    },
    {
      "cell_type": "code",
      "source": [
        "A"
      ],
      "metadata": {
        "colab": {
          "base_uri": "https://localhost:8080/"
        },
        "id": "Dc96PylWIy71",
        "outputId": "d9991ae0-15b9-4802-b0cd-e19161320812"
      },
      "execution_count": 108,
      "outputs": [
        {
          "output_type": "execute_result",
          "data": {
            "text/plain": [
              "array([[3, 3, 3],\n",
              "       [4, 5, 6],\n",
              "       [7, 6, 9]])"
            ]
          },
          "metadata": {},
          "execution_count": 108
        }
      ]
    },
    {
      "cell_type": "code",
      "source": [
        "A[2] = 0 "
      ],
      "metadata": {
        "id": "IyTB0eWNIznF"
      },
      "execution_count": 110,
      "outputs": []
    },
    {
      "cell_type": "code",
      "source": [
        "A"
      ],
      "metadata": {
        "colab": {
          "base_uri": "https://localhost:8080/"
        },
        "id": "JKhY1dsALu02",
        "outputId": "7524f574-66fc-431b-f27b-fe3fb880de7c"
      },
      "execution_count": 111,
      "outputs": [
        {
          "output_type": "execute_result",
          "data": {
            "text/plain": [
              "array([[3, 3, 3],\n",
              "       [4, 5, 6],\n",
              "       [0, 0, 0]])"
            ]
          },
          "metadata": {},
          "execution_count": 111
        }
      ]
    },
    {
      "cell_type": "code",
      "source": [
        "A.sum()"
      ],
      "metadata": {
        "colab": {
          "base_uri": "https://localhost:8080/"
        },
        "id": "erWGdrI1LvzV",
        "outputId": "a06d0b56-956f-47cd-8a30-d32ec6d6f89f"
      },
      "execution_count": 112,
      "outputs": [
        {
          "output_type": "execute_result",
          "data": {
            "text/plain": [
              "24"
            ]
          },
          "metadata": {},
          "execution_count": 112
        }
      ]
    },
    {
      "cell_type": "code",
      "source": [
        "A.mean()"
      ],
      "metadata": {
        "colab": {
          "base_uri": "https://localhost:8080/"
        },
        "id": "3nBeEbtOLynl",
        "outputId": "47df5c22-099b-47fa-e518-d14bc49c1f05"
      },
      "execution_count": 113,
      "outputs": [
        {
          "output_type": "execute_result",
          "data": {
            "text/plain": [
              "2.6666666666666665"
            ]
          },
          "metadata": {},
          "execution_count": 113
        }
      ]
    },
    {
      "cell_type": "code",
      "source": [
        "A[0].mean()  "
      ],
      "metadata": {
        "colab": {
          "base_uri": "https://localhost:8080/"
        },
        "id": "uM_f-hkwLzGe",
        "outputId": "d62758f1-165e-463e-f754-981bb9476708"
      },
      "execution_count": 116,
      "outputs": [
        {
          "output_type": "execute_result",
          "data": {
            "text/plain": [
              "3.0"
            ]
          },
          "metadata": {},
          "execution_count": 116
        }
      ]
    },
    {
      "cell_type": "code",
      "source": [
        "A.sum(axis=0)     # SOMAS DAS COLUNAS (0 NO EXEMPLO)"
      ],
      "metadata": {
        "colab": {
          "base_uri": "https://localhost:8080/"
        },
        "id": "tOoEQ6cIL-yP",
        "outputId": "78f75306-2d43-4d27-99c7-9e4ddf5d411c"
      },
      "execution_count": 121,
      "outputs": [
        {
          "output_type": "execute_result",
          "data": {
            "text/plain": [
              "array([7, 8, 9])"
            ]
          },
          "metadata": {},
          "execution_count": 121
        }
      ]
    },
    {
      "cell_type": "code",
      "source": [
        "A.mean(axis=0) # MÉDIA DAS COLUNAS (0 NO EXEMPLO)"
      ],
      "metadata": {
        "colab": {
          "base_uri": "https://localhost:8080/"
        },
        "id": "UVabZpdkNNZu",
        "outputId": "b3fa6cf5-a7ed-4359-eaf3-c2982a3747fa"
      },
      "execution_count": 122,
      "outputs": [
        {
          "output_type": "execute_result",
          "data": {
            "text/plain": [
              "array([2.33333333, 2.66666667, 3.        ])"
            ]
          },
          "metadata": {},
          "execution_count": 122
        }
      ]
    },
    {
      "cell_type": "code",
      "source": [
        "A.std()     # Desvio Padrão"
      ],
      "metadata": {
        "colab": {
          "base_uri": "https://localhost:8080/"
        },
        "id": "P6U35JmLLz9l",
        "outputId": "4d942734-56f4-476a-9589-c21818a487e4"
      },
      "execution_count": 120,
      "outputs": [
        {
          "output_type": "execute_result",
          "data": {
            "text/plain": [
              "2.1081851067789197"
            ]
          },
          "metadata": {},
          "execution_count": 120
        }
      ]
    },
    {
      "cell_type": "code",
      "source": [
        "A.var()   # Usada para calcular a variância dos elementos da matriz"
      ],
      "metadata": {
        "colab": {
          "base_uri": "https://localhost:8080/"
        },
        "id": "I2ps7YOqL1Yn",
        "outputId": "bdec92c6-bf83-451a-92f3-12d71973ef04"
      },
      "execution_count": 124,
      "outputs": [
        {
          "output_type": "execute_result",
          "data": {
            "text/plain": [
              "4.444444444444445"
            ]
          },
          "metadata": {},
          "execution_count": 124
        }
      ]
    },
    {
      "cell_type": "code",
      "source": [
        "B = np.random.randint(100, size=(3,3))"
      ],
      "metadata": {
        "id": "kZBMSjcGNhgl"
      },
      "execution_count": 129,
      "outputs": []
    },
    {
      "cell_type": "code",
      "source": [
        "B"
      ],
      "metadata": {
        "colab": {
          "base_uri": "https://localhost:8080/"
        },
        "id": "3HoX4D-FOi-N",
        "outputId": "a6596595-19df-4851-9a05-b5160b4d3e11"
      },
      "execution_count": 130,
      "outputs": [
        {
          "output_type": "execute_result",
          "data": {
            "text/plain": [
              "array([[84, 94, 61],\n",
              "       [39, 47, 14],\n",
              "       [12, 31,  8]])"
            ]
          },
          "metadata": {},
          "execution_count": 130
        }
      ]
    },
    {
      "cell_type": "code",
      "source": [
        "B.mean()"
      ],
      "metadata": {
        "colab": {
          "base_uri": "https://localhost:8080/"
        },
        "id": "Fc6DPYvAPA--",
        "outputId": "d9ea0bb2-7db9-4627-b2b7-09b8519e7f19"
      },
      "execution_count": 139,
      "outputs": [
        {
          "output_type": "execute_result",
          "data": {
            "text/plain": [
              "43.333333333333336"
            ]
          },
          "metadata": {},
          "execution_count": 139
        }
      ]
    },
    {
      "cell_type": "code",
      "source": [
        "B > 40      # Return Booleans values"
      ],
      "metadata": {
        "colab": {
          "base_uri": "https://localhost:8080/"
        },
        "id": "EvlKKqVPOjgN",
        "outputId": "ead865a2-1667-4338-c42d-ed5ae85df899"
      },
      "execution_count": 134,
      "outputs": [
        {
          "output_type": "execute_result",
          "data": {
            "text/plain": [
              "array([[ True,  True,  True],\n",
              "       [False,  True, False],\n",
              "       [False, False, False]])"
            ]
          },
          "metadata": {},
          "execution_count": 134
        }
      ]
    },
    {
      "cell_type": "code",
      "source": [
        "B[B>40]   # Get the values"
      ],
      "metadata": {
        "colab": {
          "base_uri": "https://localhost:8080/"
        },
        "id": "yl3-yyw8OoD-",
        "outputId": "c526db82-82fa-43ac-a29b-6c8c2683f6c1"
      },
      "execution_count": 135,
      "outputs": [
        {
          "output_type": "execute_result",
          "data": {
            "text/plain": [
              "array([84, 94, 61, 47])"
            ]
          },
          "metadata": {},
          "execution_count": 135
        }
      ]
    },
    {
      "cell_type": "code",
      "source": [
        "B[B>B.mean()]"
      ],
      "metadata": {
        "colab": {
          "base_uri": "https://localhost:8080/"
        },
        "id": "uRsIygWOO8nt",
        "outputId": "f0f4c42d-0af4-439d-9206-adeef67d17bd"
      },
      "execution_count": 142,
      "outputs": [
        {
          "output_type": "execute_result",
          "data": {
            "text/plain": [
              "array([84, 94, 61, 47])"
            ]
          },
          "metadata": {},
          "execution_count": 142
        }
      ]
    },
    {
      "cell_type": "code",
      "source": [
        "C = np.arange(20)   # Example template np array "
      ],
      "metadata": {
        "id": "V1dDhHw8Oy19"
      },
      "execution_count": 143,
      "outputs": []
    },
    {
      "cell_type": "code",
      "source": [
        "C"
      ],
      "metadata": {
        "colab": {
          "base_uri": "https://localhost:8080/"
        },
        "id": "SpVoxh62PPu2",
        "outputId": "7638f222-5d8e-4968-84bd-d82edd8b0383"
      },
      "execution_count": 144,
      "outputs": [
        {
          "output_type": "execute_result",
          "data": {
            "text/plain": [
              "array([ 0,  1,  2,  3,  4,  5,  6,  7,  8,  9, 10, 11, 12, 13, 14, 15, 16,\n",
              "       17, 18, 19])"
            ]
          },
          "metadata": {},
          "execution_count": 144
        }
      ]
    },
    {
      "cell_type": "code",
      "source": [
        "a = np.array([1,2,3])\n",
        "b = np.array([10,20,30])\n",
        "a.dot(b)    "
      ],
      "metadata": {
        "colab": {
          "base_uri": "https://localhost:8080/"
        },
        "id": "gz41RPZ1PQAn",
        "outputId": "747ab6b3-599d-44f9-e383-56b08b365361"
      },
      "execution_count": 146,
      "outputs": [
        {
          "output_type": "execute_result",
          "data": {
            "text/plain": [
              "140"
            ]
          },
          "metadata": {},
          "execution_count": 146
        }
      ]
    },
    {
      "cell_type": "code",
      "source": [
        "a @ b"
      ],
      "metadata": {
        "colab": {
          "base_uri": "https://localhost:8080/"
        },
        "id": "kWJe7ObIPnYm",
        "outputId": "6b0386c0-9d17-46f5-d89c-f33d81b36abd"
      },
      "execution_count": 147,
      "outputs": [
        {
          "output_type": "execute_result",
          "data": {
            "text/plain": [
              "140"
            ]
          },
          "metadata": {},
          "execution_count": 147
        }
      ]
    },
    {
      "cell_type": "code",
      "source": [
        "d = np.array([[1],\n",
        "             [2]])"
      ],
      "metadata": {
        "id": "SNkK_H9FQC9N"
      },
      "execution_count": 150,
      "outputs": []
    },
    {
      "cell_type": "code",
      "source": [
        "d.T       # Transposta"
      ],
      "metadata": {
        "colab": {
          "base_uri": "https://localhost:8080/"
        },
        "id": "UoYMTmXVQHn1",
        "outputId": "a9375f9f-7b2b-4505-8bb1-46f4c34b2de4"
      },
      "execution_count": 151,
      "outputs": [
        {
          "output_type": "execute_result",
          "data": {
            "text/plain": [
              "array([[1, 2]])"
            ]
          },
          "metadata": {},
          "execution_count": 151
        }
      ]
    },
    {
      "cell_type": "code",
      "source": [
        "A"
      ],
      "metadata": {
        "colab": {
          "base_uri": "https://localhost:8080/"
        },
        "id": "AbJOOOF7Rnyo",
        "outputId": "7b23807c-69a0-4cc0-a4eb-e64cad20afe8"
      },
      "execution_count": 152,
      "outputs": [
        {
          "output_type": "execute_result",
          "data": {
            "text/plain": [
              "array([[3, 3, 3],\n",
              "       [4, 5, 6],\n",
              "       [0, 0, 0]])"
            ]
          },
          "metadata": {},
          "execution_count": 152
        }
      ]
    },
    {
      "cell_type": "code",
      "source": [
        "D = np.array([[1,2],\n",
        "             [1,3],\n",
        "              [3,5]])"
      ],
      "metadata": {
        "id": "hWJYrZO-RoHN"
      },
      "execution_count": 158,
      "outputs": []
    },
    {
      "cell_type": "code",
      "source": [
        "D"
      ],
      "metadata": {
        "colab": {
          "base_uri": "https://localhost:8080/"
        },
        "id": "KhcNZEhMRrh9",
        "outputId": "cf7e5b5c-c108-4af2-a9d1-da95badd1364"
      },
      "execution_count": 159,
      "outputs": [
        {
          "output_type": "execute_result",
          "data": {
            "text/plain": [
              "array([[1, 2],\n",
              "       [1, 3],\n",
              "       [3, 5]])"
            ]
          },
          "metadata": {},
          "execution_count": 159
        }
      ]
    },
    {
      "cell_type": "code",
      "source": [
        "A.dot(D)"
      ],
      "metadata": {
        "colab": {
          "base_uri": "https://localhost:8080/"
        },
        "id": "oTs7uGxFRt-9",
        "outputId": "f22a88d8-a2f7-4a12-99e4-f0c5bc890d1c"
      },
      "execution_count": 160,
      "outputs": [
        {
          "output_type": "execute_result",
          "data": {
            "text/plain": [
              "array([[15, 30],\n",
              "       [27, 53],\n",
              "       [ 0,  0]])"
            ]
          },
          "metadata": {},
          "execution_count": 160
        }
      ]
    },
    {
      "cell_type": "code",
      "source": [
        "A @ D"
      ],
      "metadata": {
        "colab": {
          "base_uri": "https://localhost:8080/"
        },
        "id": "AqaBVzjlRvU1",
        "outputId": "238583e7-4348-4004-cfc4-4f7072a68183"
      },
      "execution_count": 163,
      "outputs": [
        {
          "output_type": "execute_result",
          "data": {
            "text/plain": [
              "array([[15, 30],\n",
              "       [27, 53],\n",
              "       [ 0,  0]])"
            ]
          },
          "metadata": {},
          "execution_count": 163
        }
      ]
    },
    {
      "cell_type": "code",
      "source": [
        "D.T"
      ],
      "metadata": {
        "colab": {
          "base_uri": "https://localhost:8080/"
        },
        "id": "G4fz4PrxSfpY",
        "outputId": "65895b08-150f-4afe-b7d6-c8fb3014bbec"
      },
      "execution_count": 172,
      "outputs": [
        {
          "output_type": "execute_result",
          "data": {
            "text/plain": [
              "array([[1, 1, 3],\n",
              "       [2, 3, 5]])"
            ]
          },
          "metadata": {},
          "execution_count": 172
        }
      ]
    },
    {
      "cell_type": "code",
      "source": [
        "D.T @ A"
      ],
      "metadata": {
        "colab": {
          "base_uri": "https://localhost:8080/"
        },
        "id": "srgZfw52SA6u",
        "outputId": "374bc79c-5efb-44da-fd1f-ae98b7e58aee"
      },
      "execution_count": 171,
      "outputs": [
        {
          "output_type": "execute_result",
          "data": {
            "text/plain": [
              "array([[ 7,  8,  9],\n",
              "       [18, 21, 24]])"
            ]
          },
          "metadata": {},
          "execution_count": 171
        }
      ]
    },
    {
      "cell_type": "code",
      "source": [
        "test = np.empty(())"
      ],
      "metadata": {
        "id": "P_J-meJUSB-1"
      },
      "execution_count": 182,
      "outputs": []
    },
    {
      "cell_type": "code",
      "source": [
        "test"
      ],
      "metadata": {
        "colab": {
          "base_uri": "https://localhost:8080/"
        },
        "id": "p86Xt5uaaUxW",
        "outputId": "e51e3228-b92d-494f-9519-d1a6b57a3194"
      },
      "execution_count": 183,
      "outputs": [
        {
          "output_type": "execute_result",
          "data": {
            "text/plain": [
              "array(8.70018275e-313)"
            ]
          },
          "metadata": {},
          "execution_count": 183
        }
      ]
    },
    {
      "cell_type": "code",
      "source": [
        "np.identity(3)"
      ],
      "metadata": {
        "colab": {
          "base_uri": "https://localhost:8080/"
        },
        "id": "Vs8oTd9gajaH",
        "outputId": "2c26b26e-81f7-4769-9ab0-94d34e961002"
      },
      "execution_count": 185,
      "outputs": [
        {
          "output_type": "execute_result",
          "data": {
            "text/plain": [
              "array([[1., 0., 0.],\n",
              "       [0., 1., 0.],\n",
              "       [0., 0., 1.]])"
            ]
          },
          "metadata": {},
          "execution_count": 185
        }
      ]
    },
    {
      "cell_type": "code",
      "source": [
        "np.eye(3,3)"
      ],
      "metadata": {
        "colab": {
          "base_uri": "https://localhost:8080/"
        },
        "id": "N1d9EcnWfeI-",
        "outputId": "b190c324-8e1b-4adb-9b9a-4b6040113895"
      },
      "execution_count": 186,
      "outputs": [
        {
          "output_type": "execute_result",
          "data": {
            "text/plain": [
              "array([[1., 0., 0.],\n",
              "       [0., 1., 0.],\n",
              "       [0., 0., 1.]])"
            ]
          },
          "metadata": {},
          "execution_count": 186
        }
      ]
    },
    {
      "cell_type": "code",
      "source": [],
      "metadata": {
        "id": "FsDrTo8nfhnG"
      },
      "execution_count": null,
      "outputs": []
    }
  ]
}